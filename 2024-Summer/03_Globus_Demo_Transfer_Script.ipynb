{
 "cells": [
  {
   "cell_type": "markdown",
   "id": "78089c4f",
   "metadata": {},
   "source": [
    "# Authentication: Authenticate and obtain access tokens"
   ]
  },
  {
   "cell_type": "code",
   "execution_count": null,
   "id": "23b052b1",
   "metadata": {},
   "outputs": [],
   "source": [
    "import globus_sdk\n",
    "import json\n",
    "from globus_sdk.scopes import TransferScopes\n",
    "\n",
    "# Enter the CLIENT ID generated when registering your Native App with Globus\n",
    "CLIENT_ID = \"\"\n",
    "\n",
    "# AUTHENTICATION\n",
    "auth_client = globus_sdk.NativeAppAuthClient(CLIENT_ID)\n",
    "auth_client.oauth2_start_flow(requested_scopes=TransferScopes.all)\n",
    "authorize_url = auth_client.oauth2_get_authorize_url()\n",
    "print(f\"Please go to this URL and login:\\n\\n{authorize_url}\\n\")\n",
    "\n",
    "#Enter authorization code\n",
    "auth_code = input(\"Please enter the code here: \").strip()\n",
    "tokens = auth_client.oauth2_exchange_code_for_tokens(auth_code)\n",
    "\n",
    "#Token Handling: Get tokens\n",
    "transfer_tokens = tokens.by_resource_server[\"transfer.api.globus.org\"]\n",
    "\n",
    "# Token Handling: Save the refresh token and access token for later use\n",
    "saved_tokens = {\n",
    "    \"refresh_token\": transfer_tokens[\"refresh_token\"],\n",
    "    \"access_token\": transfer_tokens[\"access_token\"],\n",
    "    \"expires_at_seconds\": transfer_tokens[\"expires_at_seconds\"]\n",
    "}\n",
    "\n",
    "# Token Handling: Function to update the saved tokens when they are refreshed\n",
    "def update_tokens(token_response):\n",
    "    saved_tokens[\"access_token\"] = token_response.by_resource_server['transfer.api.globus.org']['access_token']\n",
    "    saved_tokens[\"expires_at_seconds\"] = token_response.by_resource_server['transfer.api.globus.org']['expires_at_seconds']\n",
    "\n",
    "# Token Handling: Use RefreshTokenAuthorizer to automatically handle token refresh\n",
    "authorizer = globus_sdk.RefreshTokenAuthorizer(\n",
    "    saved_tokens[\"refresh_token\"],\n",
    "    auth_client,\n",
    "    access_token=saved_tokens[\"access_token\"],\n",
    "    expires_at=saved_tokens[\"expires_at_seconds\"],\n",
    "    on_refresh=update_tokens,\n",
    ")\n"
   ]
  },
  {
   "cell_type": "markdown",
   "id": "68f646a0",
   "metadata": {},
   "source": [
    "# Use the SDK functions to create a transfer task that copies file from Quest to my local machine that is running Globus Connect Personal"
   ]
  },
  {
   "cell_type": "code",
   "execution_count": null,
   "id": "d934834e",
   "metadata": {},
   "outputs": [],
   "source": [
    "# Construct the TransferClient using the Tokens provided by authorizer\n",
    "transfer_client = globus_sdk.TransferClient(authorizer=authorizer)\n",
    "\n",
    "# Enter the source collection UUID for your transfer\n",
    "source_endpoint_id = \"\"\n",
    "\n",
    "# Enter the destination collection UUID for your transfer\n",
    "dest_endpoint_id = \"\"\n",
    "\n",
    "# create a Transfer task consisting of one or more items\n",
    "task_data = globus_sdk.TransferData(\n",
    "    source_endpoint=source_endpoint_id, destination_endpoint=dest_endpoint_id\n",
    ")\n",
    "\n",
    "task_data.add_item(\n",
    "    \"/\",  # source file path\n",
    "    \"\",  # destination file path\n",
    ")\n"
   ]
  },
  {
   "cell_type": "markdown",
   "id": "eaa68487",
   "metadata": {},
   "source": [
    "# Submit the transfer task for execution"
   ]
  },
  {
   "cell_type": "code",
   "execution_count": null,
   "id": "57df9ea2",
   "metadata": {},
   "outputs": [],
   "source": [
    "# submit, getting back the task ID\n",
    "task_doc = transfer_client.submit_transfer(task_data)\n",
    "task_id = task_doc[\"task_id\"]\n",
    "print(f\"submitted transfer, task_id={task_id}\")"
   ]
  },
  {
   "cell_type": "markdown",
   "id": "4ba1ac29-46fd-414e-9d46-1ff8e235e54e",
   "metadata": {},
   "source": [
    "# Check the transfer task status (high level)"
   ]
  },
  {
   "cell_type": "code",
   "execution_count": null,
   "id": "b660ddca-76e0-4726-91ff-c562f37df1d3",
   "metadata": {},
   "outputs": [],
   "source": [
    "# Get and print the task's status\n",
    "task = transfer_client.get_task(task_id)\n",
    "print(f\"Task Status: {task['status']}\")"
   ]
  },
  {
   "cell_type": "markdown",
   "id": "bc354d97-4a94-419e-8119-30b9a7487acc",
   "metadata": {},
   "source": [
    "# Check the transfer task status (detailed)"
   ]
  },
  {
   "cell_type": "code",
   "execution_count": null,
   "id": "62f9579b-89b7-489a-a877-de641ff4e7ae",
   "metadata": {},
   "outputs": [],
   "source": [
    "def get_transfer_results(transfer_client, task_id):\n",
    "    # Get detailed task information\n",
    "    task = transfer_client.get_task(task_id).data\n",
    "    print(\"Task Information:\")\n",
    "    print(json.dumps(task, indent=2))\n",
    "\n",
    "    # Get list of events for the task\n",
    "    events_response = transfer_client.task_event_list(task_id)\n",
    "    events = events_response['DATA']\n",
    "    print(\"\\nTask Events:\")\n",
    "    for event in events:\n",
    "        print(json.dumps(event, indent=2))\n",
    "\n",
    "    # Get list of successful files\n",
    "    successful_files_response = transfer_client.task_successful_transfers(task_id)\n",
    "    successful_files = successful_files_response['DATA']\n",
    "    print(\"\\nSuccessful Files:\")\n",
    "    for file in successful_files:\n",
    "        print(json.dumps(file, indent=2))\n",
    "\n",
    "    # Get list of skipped errors\n",
    "    skipped_errors_response = transfer_client.task_skipped_errors(task_id)\n",
    "    skipped_errors = skipped_errors_response['DATA']\n",
    "    print(\"\\nSkipped Errors:\")\n",
    "    for error in skipped_errors:\n",
    "        print(json.dumps(error, indent=2))\n",
    "\n",
    "get_transfer_results(transfer_client, task_id)"
   ]
  },
  {
   "cell_type": "code",
   "execution_count": null,
   "id": "77a0088c-c90c-4ad6-b815-eecb13fd530d",
   "metadata": {},
   "outputs": [],
   "source": []
  }
 ],
 "metadata": {
  "kernelspec": {
   "display_name": "Python 3 (ipykernel)",
   "language": "python",
   "name": "python3"
  },
  "language_info": {
   "codemirror_mode": {
    "name": "ipython",
    "version": 3
   },
   "file_extension": ".py",
   "mimetype": "text/x-python",
   "name": "python",
   "nbconvert_exporter": "python",
   "pygments_lexer": "ipython3",
   "version": "3.9.19"
  }
 },
 "nbformat": 4,
 "nbformat_minor": 5
}
